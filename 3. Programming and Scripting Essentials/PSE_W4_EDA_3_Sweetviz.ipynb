{
  "nbformat": 4,
  "nbformat_minor": 0,
  "metadata": {
    "colab": {
      "provenance": []
    },
    "kernelspec": {
      "name": "python3",
      "display_name": "Python 3"
    },
    "language_info": {
      "name": "python"
    }
  },
  "cells": [
    {
      "cell_type": "code",
      "execution_count": 4,
      "metadata": {
        "colab": {
          "base_uri": "https://localhost:8080/"
        },
        "id": "EQTSDr8T5gtp",
        "outputId": "bead9684-5d38-4989-8877-388c991e5a40"
      },
      "outputs": [
        {
          "output_type": "execute_result",
          "data": {
            "text/plain": [
              "<sweetviz.dataframe_report.DataframeReport at 0x7f87e3cfca30>"
            ]
          },
          "metadata": {},
          "execution_count": 4
        }
      ],
      "source": [
        "#https://medium.com/@Anm.Y/in-depth-automated-eda-using-sweetviz-library-02ef1e905c39\n",
        "\n",
        "!pip install SweetViz\n",
        "\n",
        "import seaborn as sns\n",
        "import sweetviz as sv\n",
        "\n",
        "# Load the Titanic dataset\n",
        "df = sns.load_dataset(\"titanic\")\n",
        "\n",
        "# Analyze the dataset\n",
        "my_report = sv.analyze(df)\n",
        "\n",
        "# Display the Sweetviz report\n",
        "my_report.show_html(\"Report.html\")  # This will generate an HTML report\n",
        "\n"
      ]
    }
  ]
}