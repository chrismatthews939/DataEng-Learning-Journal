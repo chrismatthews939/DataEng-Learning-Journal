{
  "nbformat": 4,
  "nbformat_minor": 0,
  "metadata": {
    "colab": {
      "provenance": []
    },
    "kernelspec": {
      "name": "python3",
      "display_name": "Python 3"
    },
    "language_info": {
      "name": "python"
    }
  },
  "cells": [
    {
      "cell_type": "code",
      "execution_count": 8,
      "metadata": {
        "colab": {
          "base_uri": "https://localhost:8080/"
        },
        "id": "mQqSpqNyTLfb",
        "outputId": "71785546-6e2f-43b0-abb7-06c5cfe3097e"
      },
      "outputs": [
        {
          "output_type": "stream",
          "name": "stdout",
          "text": [
            "22\n"
          ]
        }
      ],
      "source": [
        "print('2'+'2')"
      ]
    },
    {
      "cell_type": "markdown",
      "source": [
        "## Types\n"
      ],
      "metadata": {
        "id": "hVPYVXhrUHHu"
      }
    },
    {
      "cell_type": "code",
      "source": [
        "x = 10\n",
        "y = 3.14\n",
        "z= \"Python\"\n",
        "is_active = False\n",
        "output_string = f\"integer: {x}, float: {y}, string: {z}, boolean: {is_active}\"\n",
        "type(x)\n",
        "print(output_string)"
      ],
      "metadata": {
        "colab": {
          "base_uri": "https://localhost:8080/"
        },
        "id": "8vxMNYbNUVRj",
        "outputId": "8ceaa202-391e-4c5f-fe42-be41aec395b3"
      },
      "execution_count": 13,
      "outputs": [
        {
          "output_type": "stream",
          "name": "stdout",
          "text": [
            "integer: 10, float: 3.14, string: Python, boolean: False\n"
          ]
        }
      ]
    },
    {
      "cell_type": "markdown",
      "source": [
        "1. Assign a number to a variable and print it.\n",
        "2. Assign a string to a variable and print it.\n",
        "3. Check the type of a variable using the `type()` function.\n"
      ],
      "metadata": {
        "id": "aa_vo85dbsV9"
      }
    },
    {
      "cell_type": "markdown",
      "source": [
        "## Functions"
      ],
      "metadata": {
        "id": "M_MAdKMxd1Jm"
      }
    },
    {
      "cell_type": "code",
      "source": [
        "def square(number):\n",
        "  return( number * number )\n",
        "\n",
        "x = square(5)\n",
        "print(x)"
      ],
      "metadata": {
        "colab": {
          "base_uri": "https://localhost:8080/"
        },
        "id": "CBF4tZ_Gd-CW",
        "outputId": "6c25a9db-6bd3-42eb-f82d-0b790a85b40e"
      },
      "execution_count": 21,
      "outputs": [
        {
          "output_type": "stream",
          "name": "stdout",
          "text": [
            "25\n"
          ]
        }
      ]
    },
    {
      "cell_type": "markdown",
      "source": [
        "\n",
        "#### Activities\n",
        "1. Write a function that adds two numbers and returns the result.\n",
        "2. Write a function that prints a greeting message.\n"
      ],
      "metadata": {
        "id": "5skoTwf_e7Bi"
      }
    },
    {
      "cell_type": "markdown",
      "source": [
        "## Logic and Control Flow"
      ],
      "metadata": {
        "id": "Xg365WERibfM"
      }
    },
    {
      "cell_type": "code",
      "source": [
        "age = 16\n",
        "if age < 18:\n",
        "  print('not allowed')\n",
        "elif age>55:\n",
        "  print('not allowed')\n",
        "elif age == 16:\n",
        "  print('you are 16!')\n",
        "else:\n",
        "  print('allowed')\n",
        "\n",
        "\n"
      ],
      "metadata": {
        "colab": {
          "base_uri": "https://localhost:8080/"
        },
        "id": "JTCcCEuUif9t",
        "outputId": "da0b6cf6-e9cb-4ecf-8dc7-d99fba260f13"
      },
      "execution_count": 29,
      "outputs": [
        {
          "output_type": "stream",
          "name": "stdout",
          "text": [
            "not allowed\n"
          ]
        }
      ]
    },
    {
      "cell_type": "code",
      "source": [
        "print(10%7)"
      ],
      "metadata": {
        "colab": {
          "base_uri": "https://localhost:8080/"
        },
        "id": "DYBRu6MKj50X",
        "outputId": "5af00eed-d4d0-4620-a98f-37d4e2f03159"
      },
      "execution_count": 33,
      "outputs": [
        {
          "output_type": "stream",
          "name": "stdout",
          "text": [
            "3\n"
          ]
        }
      ]
    },
    {
      "cell_type": "markdown",
      "source": [
        "#### Activities\n",
        "1. Write a program to check if a number is even or odd.\n",
        "2. Write a program to check if a number is positive.\n"
      ],
      "metadata": {
        "id": "-aYXbbFckFkC"
      }
    },
    {
      "cell_type": "code",
      "source": [
        "num = 4\n",
        "if num % 2 == 0:\n",
        "    print(\"The number is even.\")\n",
        "else:\n",
        "    print(\"The number is odd.\")\n"
      ],
      "metadata": {
        "colab": {
          "base_uri": "https://localhost:8080/"
        },
        "id": "DgT6T5lCl8C0",
        "outputId": "a74d5de6-43be-40f8-c184-8f8070f875af"
      },
      "execution_count": 34,
      "outputs": [
        {
          "output_type": "stream",
          "name": "stdout",
          "text": [
            "The number is even.\n"
          ]
        }
      ]
    },
    {
      "cell_type": "code",
      "source": [
        "num = 0\n",
        "if num > 0:\n",
        "    print(\"The number is positive.\")\n",
        "elif num == 0:\n",
        "  print(\"zero\")\n",
        "else:\n",
        "    print(\"The number is not positive.\")\n",
        "\n"
      ],
      "metadata": {
        "colab": {
          "base_uri": "https://localhost:8080/"
        },
        "id": "yAgxOUGCmetR",
        "outputId": "339641a3-b4bd-464e-fced-c2abfdf40574"
      },
      "execution_count": 38,
      "outputs": [
        {
          "output_type": "stream",
          "name": "stdout",
          "text": [
            "zero\n"
          ]
        }
      ]
    },
    {
      "cell_type": "markdown",
      "source": [
        "## Loops\n"
      ],
      "metadata": {
        "id": "WW33Dgwtp5iz"
      }
    },
    {
      "cell_type": "code",
      "source": [
        "# FOR LOOPS\n",
        "data  = [1,20,50,50]\n",
        "for i in data:\n",
        "  print(i*2)"
      ],
      "metadata": {
        "colab": {
          "base_uri": "https://localhost:8080/"
        },
        "id": "uB9lft5Ap7_M",
        "outputId": "7681842b-a9c9-499b-83a8-0618dc53c86a"
      },
      "execution_count": 44,
      "outputs": [
        {
          "output_type": "stream",
          "name": "stdout",
          "text": [
            "2\n",
            "40\n",
            "100\n",
            "100\n"
          ]
        }
      ]
    },
    {
      "cell_type": "code",
      "source": [
        "# WHILE LOOPS\n",
        "count = 0\n",
        "while count < 3:\n",
        "  print(count)\n",
        "  count += 1"
      ],
      "metadata": {
        "colab": {
          "base_uri": "https://localhost:8080/"
        },
        "id": "Jy7qnsyRp7vG",
        "outputId": "dc6099c3-5396-4033-836f-3fa18f078314"
      },
      "execution_count": 46,
      "outputs": [
        {
          "output_type": "stream",
          "name": "stdout",
          "text": [
            "0\n",
            "1\n",
            "2\n"
          ]
        }
      ]
    },
    {
      "cell_type": "code",
      "source": [
        "# RANGE\n",
        "for i in range(10):\n",
        "  print(i)"
      ],
      "metadata": {
        "colab": {
          "base_uri": "https://localhost:8080/"
        },
        "id": "f4aML1-qrord",
        "outputId": "ca57f636-074e-4376-e3da-3a0754fd8620"
      },
      "execution_count": 47,
      "outputs": [
        {
          "output_type": "stream",
          "name": "stdout",
          "text": [
            "0\n",
            "1\n",
            "2\n",
            "3\n",
            "4\n",
            "5\n",
            "6\n",
            "7\n",
            "8\n",
            "9\n"
          ]
        }
      ]
    },
    {
      "cell_type": "code",
      "source": [],
      "metadata": {
        "id": "v8f3mEOLrwo7"
      },
      "execution_count": null,
      "outputs": []
    },
    {
      "cell_type": "markdown",
      "source": [
        "#### Activities\n",
        "1. Use a `for` loop to print numbers from 1 to 5.\n",
        "2. Use a `while` loop to print \"Hello\" three times.\n"
      ],
      "metadata": {
        "id": "WglbfRSQrxpH"
      }
    },
    {
      "cell_type": "code",
      "source": [
        "for i in range(1,6,2):\n",
        "  print(i)"
      ],
      "metadata": {
        "colab": {
          "base_uri": "https://localhost:8080/"
        },
        "id": "h9bSKjUktJSX",
        "outputId": "1a13cd67-b4f3-440b-fc20-7560d6deedfe"
      },
      "execution_count": 50,
      "outputs": [
        {
          "output_type": "stream",
          "name": "stdout",
          "text": [
            "1\n",
            "3\n",
            "5\n"
          ]
        }
      ]
    },
    {
      "cell_type": "code",
      "source": [
        "counter = 0\n",
        "while counter < 3:\n",
        "  print(\"Hello\")\n",
        "  counter += 1"
      ],
      "metadata": {
        "colab": {
          "base_uri": "https://localhost:8080/"
        },
        "id": "538UoIvctnW2",
        "outputId": "71158b21-3665-4147-e101-247aa5bcedd6"
      },
      "execution_count": 51,
      "outputs": [
        {
          "output_type": "stream",
          "name": "stdout",
          "text": [
            "Hello\n",
            "Hello\n",
            "Hello\n"
          ]
        }
      ]
    },
    {
      "cell_type": "markdown",
      "source": [
        "## List Comprehension"
      ],
      "metadata": {
        "id": "avZudAkOuSOx"
      }
    },
    {
      "cell_type": "code",
      "source": [
        "import math\n",
        "age = [3650, 8000, 19000,25000,15000]\n",
        "age_years = [math.floor(i/365) for i in age]\n",
        "print(age_years)"
      ],
      "metadata": {
        "colab": {
          "base_uri": "https://localhost:8080/"
        },
        "id": "1oXZkF1juWGT",
        "outputId": "23328332-8b91-44db-e919-6e82ff85e05c"
      },
      "execution_count": 71,
      "outputs": [
        {
          "output_type": "stream",
          "name": "stdout",
          "text": [
            "[10, 21, 52, 68, 41]\n"
          ]
        }
      ]
    },
    {
      "cell_type": "code",
      "source": [],
      "metadata": {
        "id": "mfnPW9yWxqLQ"
      },
      "execution_count": null,
      "outputs": []
    },
    {
      "cell_type": "markdown",
      "source": [
        "## Assert"
      ],
      "metadata": {
        "id": "2t24_M4Cxn1F"
      }
    },
    {
      "cell_type": "code",
      "source": [
        "x = 'Hey'\n",
        "\n",
        "assert x == 'Hello'"
      ],
      "metadata": {
        "colab": {
          "base_uri": "https://localhost:8080/",
          "height": 176
        },
        "id": "N7i6xO-1xqyT",
        "outputId": "d1af053d-267a-4a45-bc67-99cdca8b7b20"
      },
      "execution_count": 73,
      "outputs": [
        {
          "output_type": "error",
          "ename": "AssertionError",
          "evalue": "",
          "traceback": [
            "\u001b[0;31m---------------------------------------------------------------------------\u001b[0m",
            "\u001b[0;31mAssertionError\u001b[0m                            Traceback (most recent call last)",
            "\u001b[0;32m<ipython-input-73-59d23ce20449>\u001b[0m in \u001b[0;36m<cell line: 3>\u001b[0;34m()\u001b[0m\n\u001b[1;32m      1\u001b[0m \u001b[0mx\u001b[0m \u001b[0;34m=\u001b[0m \u001b[0;34m'Hey'\u001b[0m\u001b[0;34m\u001b[0m\u001b[0;34m\u001b[0m\u001b[0m\n\u001b[1;32m      2\u001b[0m \u001b[0;34m\u001b[0m\u001b[0m\n\u001b[0;32m----> 3\u001b[0;31m \u001b[0;32massert\u001b[0m \u001b[0mx\u001b[0m \u001b[0;34m==\u001b[0m \u001b[0;34m'Hello'\u001b[0m\u001b[0;34m\u001b[0m\u001b[0;34m\u001b[0m\u001b[0m\n\u001b[0m",
            "\u001b[0;31mAssertionError\u001b[0m: "
          ]
        }
      ]
    },
    {
      "cell_type": "code",
      "source": [
        "x = 'Hello'\n",
        "\n",
        "assert x != 'Hello', \"x should not be Hello\""
      ],
      "metadata": {
        "colab": {
          "base_uri": "https://localhost:8080/",
          "height": 176
        },
        "id": "A2a_idrRyHhq",
        "outputId": "634a0f43-1f8b-4964-fdb3-fc4667baccf6"
      },
      "execution_count": 75,
      "outputs": [
        {
          "output_type": "error",
          "ename": "AssertionError",
          "evalue": "x should not be Hello",
          "traceback": [
            "\u001b[0;31m---------------------------------------------------------------------------\u001b[0m",
            "\u001b[0;31mAssertionError\u001b[0m                            Traceback (most recent call last)",
            "\u001b[0;32m<ipython-input-75-f037ce78998e>\u001b[0m in \u001b[0;36m<cell line: 3>\u001b[0;34m()\u001b[0m\n\u001b[1;32m      1\u001b[0m \u001b[0mx\u001b[0m \u001b[0;34m=\u001b[0m \u001b[0;34m'Hello'\u001b[0m\u001b[0;34m\u001b[0m\u001b[0;34m\u001b[0m\u001b[0m\n\u001b[1;32m      2\u001b[0m \u001b[0;34m\u001b[0m\u001b[0m\n\u001b[0;32m----> 3\u001b[0;31m \u001b[0;32massert\u001b[0m \u001b[0mx\u001b[0m \u001b[0;34m!=\u001b[0m \u001b[0;34m'Hello'\u001b[0m\u001b[0;34m,\u001b[0m \u001b[0;34m\"x should not be Hello\"\u001b[0m\u001b[0;34m\u001b[0m\u001b[0;34m\u001b[0m\u001b[0m\n\u001b[0m",
            "\u001b[0;31mAssertionError\u001b[0m: x should not be Hello"
          ]
        }
      ]
    },
    {
      "cell_type": "code",
      "source": [
        "import unittest\n",
        "\n",
        "def add(a,b):\n",
        "  return a-b\n",
        "\n",
        "class TestMath(unittest.TestCase):\n",
        "  def test_add(self):\n",
        "    self.assertEqual(add(2,3), 5)\n",
        "    self.assertEqual(add(10,10), 20)\n",
        "\n",
        "if __name__ == '__main__':\n",
        "  unittest.main(argv=['first-arg-is-ignored'], exit=False)\n"
      ],
      "metadata": {
        "colab": {
          "base_uri": "https://localhost:8080/"
        },
        "id": "b7uJrxMIyf77",
        "outputId": "304b5f80-44c8-4a42-dc46-39a8219a70fd"
      },
      "execution_count": 78,
      "outputs": [
        {
          "output_type": "stream",
          "name": "stderr",
          "text": [
            "F\n",
            "======================================================================\n",
            "FAIL: test_add (__main__.TestMath)\n",
            "----------------------------------------------------------------------\n",
            "Traceback (most recent call last):\n",
            "  File \"<ipython-input-78-588aed608e43>\", line 8, in test_add\n",
            "    self.assertEqual(add(2,3), 5)\n",
            "AssertionError: -1 != 5\n",
            "\n",
            "----------------------------------------------------------------------\n",
            "Ran 1 test in 0.003s\n",
            "\n",
            "FAILED (failures=1)\n"
          ]
        }
      ]
    },
    {
      "cell_type": "markdown",
      "source": [],
      "metadata": {
        "id": "YlvGXHyoyfss"
      }
    }
  ]
}