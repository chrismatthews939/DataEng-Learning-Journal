{
  "nbformat": 4,
  "nbformat_minor": 0,
  "metadata": {
    "colab": {
      "provenance": [],
      "authorship_tag": "ABX9TyOI0WnM+d2JKsRvhRhHOuX2",
      "include_colab_link": true
    },
    "kernelspec": {
      "name": "python3",
      "display_name": "Python 3"
    },
    "language_info": {
      "name": "python"
    }
  },
  "cells": [
    {
      "cell_type": "markdown",
      "metadata": {
        "id": "view-in-github",
        "colab_type": "text"
      },
      "source": [
        "<a href=\"https://colab.research.google.com/github/chrismatthews939/DataEng-Learning-Journal/blob/main/DataEng_PythonBasics.ipynb\" target=\"_parent\"><img src=\"https://colab.research.google.com/assets/colab-badge.svg\" alt=\"Open In Colab\"/></a>"
      ]
    },
    {
      "cell_type": "code",
      "execution_count": 13,
      "metadata": {
        "colab": {
          "base_uri": "https://localhost:8080/"
        },
        "id": "KyQXi8riPtfj",
        "outputId": "e4a9683e-5b56-43a5-9f5c-42d3ea9ae043"
      },
      "outputs": [
        {
          "output_type": "stream",
          "name": "stdout",
          "text": [
            "[4, 4, 4, 4, 4, 4, 4, 4, 3, 3, 3, 3, 3, 3, 3, 3, 2, 2, 2, 2, 2, 2, 2, 2, 1, 1, 1, 1, 1, 1, 1, 1]\n"
          ]
        }
      ],
      "source": [
        "arr = [1,2,3,4]\n",
        "\n",
        "new_arr = []\n",
        "\n",
        "for i in arr:\n",
        "  for j in arr:\n",
        "    new_arr.append(i)\n",
        "    new_arr.append(j)\n",
        "\n",
        "print(sorted(new_arr, reverse = True))"
      ]
    },
    {
      "cell_type": "markdown",
      "source": [
        "Functions"
      ],
      "metadata": {
        "id": "tUdaQfyyeAHx"
      }
    },
    {
      "cell_type": "code",
      "source": [
        "def add_numbers(x, y):\n",
        "  while True:\n",
        "    try:\n",
        "      return int(x) + int(y)\n",
        "    except ValueError:\n",
        "      print(\"Must be an integer\")\n",
        "\n",
        "print(add_numbers(3,4))\n",
        "\n",
        "def greet():\n",
        "  name = input(\"Enter your name: \")\n",
        "  print(f\"Hello, {name}!\")\n",
        "greet()"
      ],
      "metadata": {
        "colab": {
          "base_uri": "https://localhost:8080/"
        },
        "id": "pX85WiyneB4u",
        "outputId": "e5662b56-64ce-4fbf-f36c-5840c946cda9"
      },
      "execution_count": 27,
      "outputs": [
        {
          "output_type": "stream",
          "name": "stdout",
          "text": [
            "7\n",
            "Enter your name: Chris\n",
            "Hello, Chris!\n"
          ]
        }
      ]
    },
    {
      "cell_type": "markdown",
      "source": [
        "Conditionals"
      ],
      "metadata": {
        "id": "uQzaggeHi59i"
      }
    },
    {
      "cell_type": "code",
      "source": [
        "num = -20\n",
        "if num % 2 == 0:\n",
        "  print('Even')\n",
        "else:\n",
        "  print('Odd')\n",
        "\n",
        "if num > 0:\n",
        "  print('Positive')\n",
        "else:\n",
        "  print('Negative')\n"
      ],
      "metadata": {
        "colab": {
          "base_uri": "https://localhost:8080/"
        },
        "id": "wXGcpE5gi8kR",
        "outputId": "71c3d7bb-737b-49cc-e118-ec649f3ab743"
      },
      "execution_count": 32,
      "outputs": [
        {
          "output_type": "stream",
          "name": "stdout",
          "text": [
            "Even\n",
            "Negative\n"
          ]
        }
      ]
    },
    {
      "cell_type": "markdown",
      "source": [
        "Loops"
      ],
      "metadata": {
        "id": "tzookvNbqEKD"
      }
    },
    {
      "cell_type": "code",
      "source": [
        "data = [1,2,3,4]\n",
        "\n",
        "# for loop\n",
        "for i in data:\n",
        "  print(i*2)"
      ],
      "metadata": {
        "colab": {
          "base_uri": "https://localhost:8080/"
        },
        "id": "75cy369HqFVw",
        "outputId": "b00e419e-bb9c-4850-d101-832f451e584c"
      },
      "execution_count": 35,
      "outputs": [
        {
          "output_type": "stream",
          "name": "stdout",
          "text": [
            "2\n",
            "4\n",
            "6\n",
            "8\n"
          ]
        }
      ]
    },
    {
      "cell_type": "code",
      "source": [
        "count = 0\n",
        "# while loop\n",
        "while count < 5:\n",
        "  print(count)\n",
        "  count += 1\n",
        "\n"
      ],
      "metadata": {
        "colab": {
          "base_uri": "https://localhost:8080/"
        },
        "id": "Zlf5KWCprkBV",
        "outputId": "521bd38a-b8e6-44ef-8a13-54ed2553054d"
      },
      "execution_count": 36,
      "outputs": [
        {
          "output_type": "stream",
          "name": "stdout",
          "text": [
            "0\n",
            "1\n",
            "2\n",
            "3\n",
            "4\n"
          ]
        }
      ]
    },
    {
      "cell_type": "code",
      "source": [
        "for i in range(1,6):\n",
        "  print(i)\n",
        "\n",
        "count = 0\n",
        "while count < 3:\n",
        "  count += 1\n",
        "  print('Hello')"
      ],
      "metadata": {
        "colab": {
          "base_uri": "https://localhost:8080/"
        },
        "id": "lnkT557wr23S",
        "outputId": "3ed251be-8761-41b8-971e-4b16c180e1cd"
      },
      "execution_count": 42,
      "outputs": [
        {
          "output_type": "stream",
          "name": "stdout",
          "text": [
            "1\n",
            "2\n",
            "3\n",
            "4\n",
            "5\n",
            "Hello\n",
            "Hello\n",
            "Hello\n"
          ]
        }
      ]
    },
    {
      "cell_type": "markdown",
      "source": [
        "List Comprehension"
      ],
      "metadata": {
        "id": "NjzXZcUCuYGR"
      }
    },
    {
      "cell_type": "code",
      "source": [
        "import math\n",
        "\n",
        "ages = [3650, 7000, 8000, 5000]\n",
        "\n",
        "age_years = [math.floor(age/365) for age in ages] # round down for ages\n",
        "\n",
        "print(age_years)\n",
        "\n",
        "\n",
        "new = [1,3,6,9]\n",
        "new2 = [i**2 for i in new]\n",
        "print(new2)\n"
      ],
      "metadata": {
        "colab": {
          "base_uri": "https://localhost:8080/"
        },
        "id": "4SCcb9Pxuaag",
        "outputId": "fe516358-046e-46b5-86d6-08d3868e9c7e"
      },
      "execution_count": 51,
      "outputs": [
        {
          "output_type": "stream",
          "name": "stdout",
          "text": [
            "[10, 19, 21, 13]\n",
            "[1, 9, 36, 81]\n"
          ]
        }
      ]
    },
    {
      "cell_type": "markdown",
      "source": [
        "Assert"
      ],
      "metadata": {
        "id": "cnneKbt_xleD"
      }
    },
    {
      "cell_type": "code",
      "source": [
        "# specify what something should be\n",
        "x = 'Hi'\n",
        "assert x == 'Hello', 'x should be Hello'"
      ],
      "metadata": {
        "colab": {
          "base_uri": "https://localhost:8080/",
          "height": 158
        },
        "id": "T6Y2GdrfxnCS",
        "outputId": "65233444-2124-4dd4-e5be-8f8abd6507ce"
      },
      "execution_count": 52,
      "outputs": [
        {
          "output_type": "error",
          "ename": "AssertionError",
          "evalue": "x should be Hello",
          "traceback": [
            "\u001b[0;31m---------------------------------------------------------------------------\u001b[0m",
            "\u001b[0;31mAssertionError\u001b[0m                            Traceback (most recent call last)",
            "\u001b[0;32m<ipython-input-52-dd72f4815875>\u001b[0m in \u001b[0;36m<cell line: 2>\u001b[0;34m()\u001b[0m\n\u001b[1;32m      1\u001b[0m \u001b[0mx\u001b[0m \u001b[0;34m=\u001b[0m \u001b[0;34m'Hi'\u001b[0m\u001b[0;34m\u001b[0m\u001b[0;34m\u001b[0m\u001b[0m\n\u001b[0;32m----> 2\u001b[0;31m \u001b[0;32massert\u001b[0m \u001b[0mx\u001b[0m \u001b[0;34m==\u001b[0m \u001b[0;34m'Hello'\u001b[0m\u001b[0;34m,\u001b[0m \u001b[0;34m'x should be Hello'\u001b[0m\u001b[0;34m\u001b[0m\u001b[0;34m\u001b[0m\u001b[0m\n\u001b[0m",
            "\u001b[0;31mAssertionError\u001b[0m: x should be Hello"
          ]
        }
      ]
    },
    {
      "cell_type": "markdown",
      "source": [
        "Unit testing"
      ],
      "metadata": {
        "id": "HyX3SQCqyh8v"
      }
    },
    {
      "cell_type": "code",
      "source": [
        "import unittest\n",
        "\n",
        "def add_numbers(x, y):\n",
        "  return x + y\n",
        "\n",
        "class TestAddNumbers(unittest.TestCase):\n",
        "  def test_add_numbers(self):\n",
        "    self.assertEqual(add_numbers(2,3), 5) # this should pass\n",
        "    self.assertEqual(add_numbers(2,3), 6) # this should fail\n",
        "\n",
        "if __name__ == '__main__':\n",
        "    # Create a test suite\n",
        "    suite = unittest.TestSuite()\n",
        "\n",
        "    # Add your test cases to the suite\n",
        "    suite.addTest(unittest.makeSuite(TestAddNumbers))\n",
        "\n",
        "    # Create a test runner and run the suite\n",
        "    runner = unittest.TextTestRunner()\n",
        "    runner.run(suite)"
      ],
      "metadata": {
        "colab": {
          "base_uri": "https://localhost:8080/"
        },
        "id": "v3-kJcgcyjdy",
        "outputId": "60e5ed97-25a9-40bf-9c6a-409a2acb2716"
      },
      "execution_count": 60,
      "outputs": [
        {
          "output_type": "stream",
          "name": "stderr",
          "text": [
            "F\n",
            "======================================================================\n",
            "FAIL: test_add_numbers (__main__.TestAddNumbers)\n",
            "----------------------------------------------------------------------\n",
            "Traceback (most recent call last):\n",
            "  File \"<ipython-input-60-a52d62009fb7>\", line 9, in test_add_numbers\n",
            "    self.assertEqual(add_numbers(2,3), 6) # this should fail\n",
            "AssertionError: 5 != 6\n",
            "\n",
            "----------------------------------------------------------------------\n",
            "Ran 1 test in 0.007s\n",
            "\n",
            "FAILED (failures=1)\n"
          ]
        }
      ]
    }
  ]
}